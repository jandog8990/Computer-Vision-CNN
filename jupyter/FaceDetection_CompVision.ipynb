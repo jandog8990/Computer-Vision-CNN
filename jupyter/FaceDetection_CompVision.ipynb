{
 "cells": [
  {
   "cell_type": "code",
   "execution_count": 76,
   "metadata": {},
   "outputs": [
    {
     "name": "stdout",
     "output_type": "stream",
     "text": [
      "[249, 300, 322, 171, 97, 124, 8, 138, 59, 361, 112]\n",
      "(358, 14400)\n",
      "(358, 14400)\n"
     ]
    }
   ],
   "source": [
    "import numpy as np\n",
    "import random\n",
    "\n",
    "# ===========================================================\n",
    "# Load and create data from the GroundTruth anchor pixels\n",
    "# ===========================================================\n",
    "\n",
    "# Import the FaceBoxes and BackBoxes from the LoadCreateAnchors.py\n",
    "# script which creates face and bg pixel images\n",
    "dataDir = '../python/'\n",
    "FaceBoxes = np.load(dataDir+'FaceBoxes.npy', allow_pickle=True)\n",
    "BackBoxes = np.load(dataDir+'BackBoxes.npy', allow_pickle=True)\n",
    "FrameGroup = [i for i in range(len(FaceBoxes))]\n",
    "\n",
    "# Make balanced datasets for faces and BG\n",
    "x = [random.randint(0,len(FaceBoxes)) for i in range(len(FaceBoxes)-len(BackBoxes))]\n",
    "FaceBoxes = np.delete(FaceBoxes, x, axis=0)\n",
    "print(x)\n",
    "print(FaceBoxes.shape)\n",
    "print(BackBoxes.shape)\n",
    "\n",
    "# Create the datasets and labels for the Face and Back boxes\n",
    "X = np.concatenate((FaceBoxes, BackBoxes))\n",
    "flabels = [1 for i in range(len(FaceBoxes))]\n",
    "blabels = [0 for i in range(len(BackBoxes))]\n",
    "y = np.concatenate((flabels, blabels))"
   ]
  },
  {
   "cell_type": "code",
   "execution_count": null,
   "metadata": {},
   "outputs": [],
   "source": []
  }
 ],
 "metadata": {
  "kernelspec": {
   "display_name": "Python 3",
   "language": "python",
   "name": "python3"
  },
  "language_info": {
   "codemirror_mode": {
    "name": "ipython",
    "version": 3
   },
   "file_extension": ".py",
   "mimetype": "text/x-python",
   "name": "python",
   "nbconvert_exporter": "python",
   "pygments_lexer": "ipython3",
   "version": "3.7.4"
  }
 },
 "nbformat": 4,
 "nbformat_minor": 2
}
